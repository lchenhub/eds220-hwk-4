{
 "cells": [
  {
   "cell_type": "markdown",
   "id": "5c84568e-f023-4289-8d77-65c4a8e2cb98",
   "metadata": {},
   "source": [
    "# HW 4-Task 3 (Air Quality Index Data + False color image)\n",
    "\n",
    "Author: Liane Chen\n",
    "\n",
    "GitHub link: https://github.com/lchenhub/eds220-hwk4-task3.git\n"
   ]
  },
  {
   "cell_type": "markdown",
   "id": "2c17ec4c-b910-485b-b771-cbe4d6bb2ffe",
   "metadata": {
    "tags": []
   },
   "source": [
    "## About"
   ]
  },
  {
   "cell_type": "markdown",
   "id": "6ab80e22-0765-4e87-9fcc-1a7593e579a8",
   "metadata": {
    "tags": []
   },
   "source": [
    "### Purpose"
   ]
  },
  {
   "cell_type": "markdown",
   "id": "45cfa539-7a8c-4fc7-bbf1-0a3411533439",
   "metadata": {},
   "source": [
    "### Highlights"
   ]
  },
  {
   "cell_type": "markdown",
   "id": "fa5ee36b-c833-44f6-ab7f-46a5c4d7708c",
   "metadata": {},
   "source": [
    "### Dataset description"
   ]
  },
  {
   "cell_type": "markdown",
   "id": "0966f61b-2be6-4122-b8a8-14af7b63cbce",
   "metadata": {},
   "source": [
    "### References"
   ]
  },
  {
   "cell_type": "code",
   "execution_count": null,
   "id": "fb567d47-8647-40bb-a697-1332489b0a16",
   "metadata": {},
   "outputs": [],
   "source": []
  }
 ],
 "metadata": {
  "kernelspec": {
   "display_name": "Anaconda 3 (Base)",
   "language": "python",
   "name": "base"
  },
  "language_info": {
   "codemirror_mode": {
    "name": "ipython",
    "version": 3
   },
   "file_extension": ".py",
   "mimetype": "text/x-python",
   "name": "python",
   "nbconvert_exporter": "python",
   "pygments_lexer": "ipython3",
   "version": "3.9.13"
  }
 },
 "nbformat": 4,
 "nbformat_minor": 5
}
