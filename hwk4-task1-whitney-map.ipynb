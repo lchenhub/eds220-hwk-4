{
 "cells": [
  {
   "cell_type": "markdown",
   "id": "6ef54737-e891-4af0-8593-8b1a9887b99c",
   "metadata": {},
   "source": [
    "# Task 1 - LULC tile location map\n",
    "\n",
    "## General instructions\n",
    "\n",
    "First, update the following cell to have a link to your Homework 4 GitHub repository\n",
    "\n",
    "**UPDATE THIS LINK** https://github.com/lchenhub/eds220-hwk-4\n",
    "\n",
    "Add comments for all your code and commit as needed. Err on the side of commenting and commiting too much for now.\n",
    "\n",
    "## Overview\n",
    "The goal of this task is to create a simple map showing the location of the LULC tile section we used in the previous discussion section relative to the state of California and Mount Whitney. \n",
    "\n",
    "## About the data\n",
    "\n",
    "In this task you will use two datsets:\n",
    "\n",
    "**First dataset**\n",
    "\n",
    "A small section of the GAP/LANDFIRE National Terrestrial Ecosystems data for 2011, from the US Geological Survey (USGS). This is a raster file with a 30 m x 30 m pixel resolution. Each cell in the raster has a number representing the type of land cover.\n",
    "\n",
    "The data was pre-processed in the Microsoft Planetary Computer to show a small region around Mount Whitney in California.\n",
    "\n",
    "Further information about the dataset can be accessed via the the dataset’s Digital Object Identifier (DOI) link:\n",
    "\n",
    "U.S. Geological Survey (USGS) Gap Analysis Project (GAP), 2016, GAP/LANDFIRE National Terrestrial Ecosystems 2011: U.S. Geological Survey data release, https://doi.org/10.5066/F7ZS2TM0.\n",
    "\n",
    "**Second dataset**\n",
    "\n",
    "A shapefile of CA Geographic Boundaries. \n",
    "This is a subset of the US Census Bureau's 2016 TIGER database, which only has the state boundary.\n",
    "[https://data.ca.gov/dataset/ca-geographic-boundaries/resource/3db1e426-fb51-44f5-82d5-a54d7c6e188b](https://data.ca.gov/dataset/ca-geographic-boundaries/resource/3db1e426-fb51-44f5-82d5-a54d7c6e188b)\n",
    "\n",
    "## File management\n",
    "All your data files must be  inside a directory named 'data'  **in your gitignore**. \n",
    "\n",
    "## Data access\n",
    "The .tif file (same as we used in discussion section) is in the Canvas-week7-homework zip file. The California shapefile will be directly accessed via its URL."
   ]
  },
  {
   "cell_type": "markdown",
   "id": "866e462d-2dc7-4a67-b08b-be182a37f73d",
   "metadata": {},
   "source": [
    "## FINAL CODE\n",
    "You will use the next cell at the end of the task. Leave it blank for now."
   ]
  },
  {
   "cell_type": "code",
   "execution_count": 1,
   "id": "4bc3d98b-7091-4a65-8a3b-5206cf2276d8",
   "metadata": {},
   "outputs": [],
   "source": [
    "### ===== FINAL CODE =====\n",
    "\n",
    "# 1, import data \n",
    "lulc_fp = os.path.join(os.getcwd(),'data','land_cover.tif')\n",
    "lulc = rioxr.open_rasterio(lulc_fp)\n",
    "\n",
    "# 2, CA shapefile \n",
    "ca = gpd.read_file('https://data.ca.gov/dataset/e212e397-1277-4df3-8c22-40721b095f33/resource/3db1e426-fb51-44f5-82d5-a54d7c6e188b/download/ca-state-boundary.zip')\n",
    "\n",
    "# create bounding box\n",
    "lulc.rio.bounds()\n",
    "\n",
    "\n",
    "# create bbox\n",
    "bbox = box(*lulc.rio.bounds())\n",
    "\n",
    "#check\n",
    "print(type(bbox))\n",
    "bbox\n",
    "\n",
    "#create geodateframe for bbox\n",
    "bbox = gpd.GeoDataFrame(geometry = [bbox],\n",
    "                        crs = lulc.rio.crs)\n",
    "#check                        \n",
    "print(type(bbox))\n",
    "\n",
    "#plot bbox\n",
    "bbox.plot()"
   ]
  },
  {
   "cell_type": "markdown",
   "id": "0f4c3de1-7581-41e5-bc49-90a889b5ccb1",
   "metadata": {},
   "source": [
    "## Import libraries and functions"
   ]
  },
  {
   "cell_type": "code",
   "execution_count": 2,
   "id": "8d8ea3c8-eccd-4b7f-8823-bf62105aadc9",
   "metadata": {
    "tags": []
   },
   "outputs": [],
   "source": [
    "# import libraries and functions here\n",
    "\n",
    "import os\n",
    "import numpy as np\n",
    "import matplotlib.pyplot as plt\n",
    "\n",
    "import rioxarray as rioxr\n",
    "\n",
    "import geopandas as gpd\n",
    "from shapely.geometry import Point\n",
    "from shapely.geometry import box\n",
    "\n",
    "import matplotlib.patches as mpatches\n",
    "import matplotlib.lines as mlines"
   ]
  },
  {
   "cell_type": "markdown",
   "id": "704b8e50-8e8c-4410-9cba-e3b67b909ef7",
   "metadata": {},
   "source": [
    "## Import data\n",
    "Use the next two cells to:\n",
    "\n",
    "1. Import the raster file and store it in a variable `lulc` and take a look at it.\n",
    "2. Import the CA shapefile directly from the URL using `gpd.read_file()` and take a look at it. You can get it by right-clicking on the \"Download\" button. Store it as a variable named `ca`."
   ]
  },
  {
   "cell_type": "code",
   "execution_count": 3,
   "id": "795dd4f7-9ebe-4966-8e3a-44b77711b5eb",
   "metadata": {},
   "outputs": [
    {
     "data": {
      "text/html": [
       "<div><svg style=\"position: absolute; width: 0; height: 0; overflow: hidden\">\n",
       "<defs>\n",
       "<symbol id=\"icon-database\" viewBox=\"0 0 32 32\">\n",
       "<path d=\"M16 0c-8.837 0-16 2.239-16 5v4c0 2.761 7.163 5 16 5s16-2.239 16-5v-4c0-2.761-7.163-5-16-5z\"></path>\n",
       "<path d=\"M16 17c-8.837 0-16-2.239-16-5v6c0 2.761 7.163 5 16 5s16-2.239 16-5v-6c0 2.761-7.163 5-16 5z\"></path>\n",
       "<path d=\"M16 26c-8.837 0-16-2.239-16-5v6c0 2.761 7.163 5 16 5s16-2.239 16-5v-6c0 2.761-7.163 5-16 5z\"></path>\n",
       "</symbol>\n",
       "<symbol id=\"icon-file-text2\" viewBox=\"0 0 32 32\">\n",
       "<path d=\"M28.681 7.159c-0.694-0.947-1.662-2.053-2.724-3.116s-2.169-2.030-3.116-2.724c-1.612-1.182-2.393-1.319-2.841-1.319h-15.5c-1.378 0-2.5 1.121-2.5 2.5v27c0 1.378 1.122 2.5 2.5 2.5h23c1.378 0 2.5-1.122 2.5-2.5v-19.5c0-0.448-0.137-1.23-1.319-2.841zM24.543 5.457c0.959 0.959 1.712 1.825 2.268 2.543h-4.811v-4.811c0.718 0.556 1.584 1.309 2.543 2.268zM28 29.5c0 0.271-0.229 0.5-0.5 0.5h-23c-0.271 0-0.5-0.229-0.5-0.5v-27c0-0.271 0.229-0.5 0.5-0.5 0 0 15.499-0 15.5 0v7c0 0.552 0.448 1 1 1h7v19.5z\"></path>\n",
       "<path d=\"M23 26h-14c-0.552 0-1-0.448-1-1s0.448-1 1-1h14c0.552 0 1 0.448 1 1s-0.448 1-1 1z\"></path>\n",
       "<path d=\"M23 22h-14c-0.552 0-1-0.448-1-1s0.448-1 1-1h14c0.552 0 1 0.448 1 1s-0.448 1-1 1z\"></path>\n",
       "<path d=\"M23 18h-14c-0.552 0-1-0.448-1-1s0.448-1 1-1h14c0.552 0 1 0.448 1 1s-0.448 1-1 1z\"></path>\n",
       "</symbol>\n",
       "</defs>\n",
       "</svg>\n",
       "<style>/* CSS stylesheet for displaying xarray objects in jupyterlab.\n",
       " *\n",
       " */\n",
       "\n",
       ":root {\n",
       "  --xr-font-color0: var(--jp-content-font-color0, rgba(0, 0, 0, 1));\n",
       "  --xr-font-color2: var(--jp-content-font-color2, rgba(0, 0, 0, 0.54));\n",
       "  --xr-font-color3: var(--jp-content-font-color3, rgba(0, 0, 0, 0.38));\n",
       "  --xr-border-color: var(--jp-border-color2, #e0e0e0);\n",
       "  --xr-disabled-color: var(--jp-layout-color3, #bdbdbd);\n",
       "  --xr-background-color: var(--jp-layout-color0, white);\n",
       "  --xr-background-color-row-even: var(--jp-layout-color1, white);\n",
       "  --xr-background-color-row-odd: var(--jp-layout-color2, #eeeeee);\n",
       "}\n",
       "\n",
       "html[theme=dark],\n",
       "body.vscode-dark {\n",
       "  --xr-font-color0: rgba(255, 255, 255, 1);\n",
       "  --xr-font-color2: rgba(255, 255, 255, 0.54);\n",
       "  --xr-font-color3: rgba(255, 255, 255, 0.38);\n",
       "  --xr-border-color: #1F1F1F;\n",
       "  --xr-disabled-color: #515151;\n",
       "  --xr-background-color: #111111;\n",
       "  --xr-background-color-row-even: #111111;\n",
       "  --xr-background-color-row-odd: #313131;\n",
       "}\n",
       "\n",
       ".xr-wrap {\n",
       "  display: block;\n",
       "  min-width: 300px;\n",
       "  max-width: 700px;\n",
       "}\n",
       "\n",
       ".xr-text-repr-fallback {\n",
       "  /* fallback to plain text repr when CSS is not injected (untrusted notebook) */\n",
       "  display: none;\n",
       "}\n",
       "\n",
       ".xr-header {\n",
       "  padding-top: 6px;\n",
       "  padding-bottom: 6px;\n",
       "  margin-bottom: 4px;\n",
       "  border-bottom: solid 1px var(--xr-border-color);\n",
       "}\n",
       "\n",
       ".xr-header > div,\n",
       ".xr-header > ul {\n",
       "  display: inline;\n",
       "  margin-top: 0;\n",
       "  margin-bottom: 0;\n",
       "}\n",
       "\n",
       ".xr-obj-type,\n",
       ".xr-array-name {\n",
       "  margin-left: 2px;\n",
       "  margin-right: 10px;\n",
       "}\n",
       "\n",
       ".xr-obj-type {\n",
       "  color: var(--xr-font-color2);\n",
       "}\n",
       "\n",
       ".xr-sections {\n",
       "  padding-left: 0 !important;\n",
       "  display: grid;\n",
       "  grid-template-columns: 150px auto auto 1fr 20px 20px;\n",
       "}\n",
       "\n",
       ".xr-section-item {\n",
       "  display: contents;\n",
       "}\n",
       "\n",
       ".xr-section-item input {\n",
       "  display: none;\n",
       "}\n",
       "\n",
       ".xr-section-item input + label {\n",
       "  color: var(--xr-disabled-color);\n",
       "}\n",
       "\n",
       ".xr-section-item input:enabled + label {\n",
       "  cursor: pointer;\n",
       "  color: var(--xr-font-color2);\n",
       "}\n",
       "\n",
       ".xr-section-item input:enabled + label:hover {\n",
       "  color: var(--xr-font-color0);\n",
       "}\n",
       "\n",
       ".xr-section-summary {\n",
       "  grid-column: 1;\n",
       "  color: var(--xr-font-color2);\n",
       "  font-weight: 500;\n",
       "}\n",
       "\n",
       ".xr-section-summary > span {\n",
       "  display: inline-block;\n",
       "  padding-left: 0.5em;\n",
       "}\n",
       "\n",
       ".xr-section-summary-in:disabled + label {\n",
       "  color: var(--xr-font-color2);\n",
       "}\n",
       "\n",
       ".xr-section-summary-in + label:before {\n",
       "  display: inline-block;\n",
       "  content: '►';\n",
       "  font-size: 11px;\n",
       "  width: 15px;\n",
       "  text-align: center;\n",
       "}\n",
       "\n",
       ".xr-section-summary-in:disabled + label:before {\n",
       "  color: var(--xr-disabled-color);\n",
       "}\n",
       "\n",
       ".xr-section-summary-in:checked + label:before {\n",
       "  content: '▼';\n",
       "}\n",
       "\n",
       ".xr-section-summary-in:checked + label > span {\n",
       "  display: none;\n",
       "}\n",
       "\n",
       ".xr-section-summary,\n",
       ".xr-section-inline-details {\n",
       "  padding-top: 4px;\n",
       "  padding-bottom: 4px;\n",
       "}\n",
       "\n",
       ".xr-section-inline-details {\n",
       "  grid-column: 2 / -1;\n",
       "}\n",
       "\n",
       ".xr-section-details {\n",
       "  display: none;\n",
       "  grid-column: 1 / -1;\n",
       "  margin-bottom: 5px;\n",
       "}\n",
       "\n",
       ".xr-section-summary-in:checked ~ .xr-section-details {\n",
       "  display: contents;\n",
       "}\n",
       "\n",
       ".xr-array-wrap {\n",
       "  grid-column: 1 / -1;\n",
       "  display: grid;\n",
       "  grid-template-columns: 20px auto;\n",
       "}\n",
       "\n",
       ".xr-array-wrap > label {\n",
       "  grid-column: 1;\n",
       "  vertical-align: top;\n",
       "}\n",
       "\n",
       ".xr-preview {\n",
       "  color: var(--xr-font-color3);\n",
       "}\n",
       "\n",
       ".xr-array-preview,\n",
       ".xr-array-data {\n",
       "  padding: 0 5px !important;\n",
       "  grid-column: 2;\n",
       "}\n",
       "\n",
       ".xr-array-data,\n",
       ".xr-array-in:checked ~ .xr-array-preview {\n",
       "  display: none;\n",
       "}\n",
       "\n",
       ".xr-array-in:checked ~ .xr-array-data,\n",
       ".xr-array-preview {\n",
       "  display: inline-block;\n",
       "}\n",
       "\n",
       ".xr-dim-list {\n",
       "  display: inline-block !important;\n",
       "  list-style: none;\n",
       "  padding: 0 !important;\n",
       "  margin: 0;\n",
       "}\n",
       "\n",
       ".xr-dim-list li {\n",
       "  display: inline-block;\n",
       "  padding: 0;\n",
       "  margin: 0;\n",
       "}\n",
       "\n",
       ".xr-dim-list:before {\n",
       "  content: '(';\n",
       "}\n",
       "\n",
       ".xr-dim-list:after {\n",
       "  content: ')';\n",
       "}\n",
       "\n",
       ".xr-dim-list li:not(:last-child):after {\n",
       "  content: ',';\n",
       "  padding-right: 5px;\n",
       "}\n",
       "\n",
       ".xr-has-index {\n",
       "  font-weight: bold;\n",
       "}\n",
       "\n",
       ".xr-var-list,\n",
       ".xr-var-item {\n",
       "  display: contents;\n",
       "}\n",
       "\n",
       ".xr-var-item > div,\n",
       ".xr-var-item label,\n",
       ".xr-var-item > .xr-var-name span {\n",
       "  background-color: var(--xr-background-color-row-even);\n",
       "  margin-bottom: 0;\n",
       "}\n",
       "\n",
       ".xr-var-item > .xr-var-name:hover span {\n",
       "  padding-right: 5px;\n",
       "}\n",
       "\n",
       ".xr-var-list > li:nth-child(odd) > div,\n",
       ".xr-var-list > li:nth-child(odd) > label,\n",
       ".xr-var-list > li:nth-child(odd) > .xr-var-name span {\n",
       "  background-color: var(--xr-background-color-row-odd);\n",
       "}\n",
       "\n",
       ".xr-var-name {\n",
       "  grid-column: 1;\n",
       "}\n",
       "\n",
       ".xr-var-dims {\n",
       "  grid-column: 2;\n",
       "}\n",
       "\n",
       ".xr-var-dtype {\n",
       "  grid-column: 3;\n",
       "  text-align: right;\n",
       "  color: var(--xr-font-color2);\n",
       "}\n",
       "\n",
       ".xr-var-preview {\n",
       "  grid-column: 4;\n",
       "}\n",
       "\n",
       ".xr-var-name,\n",
       ".xr-var-dims,\n",
       ".xr-var-dtype,\n",
       ".xr-preview,\n",
       ".xr-attrs dt {\n",
       "  white-space: nowrap;\n",
       "  overflow: hidden;\n",
       "  text-overflow: ellipsis;\n",
       "  padding-right: 10px;\n",
       "}\n",
       "\n",
       ".xr-var-name:hover,\n",
       ".xr-var-dims:hover,\n",
       ".xr-var-dtype:hover,\n",
       ".xr-attrs dt:hover {\n",
       "  overflow: visible;\n",
       "  width: auto;\n",
       "  z-index: 1;\n",
       "}\n",
       "\n",
       ".xr-var-attrs,\n",
       ".xr-var-data {\n",
       "  display: none;\n",
       "  background-color: var(--xr-background-color) !important;\n",
       "  padding-bottom: 5px !important;\n",
       "}\n",
       "\n",
       ".xr-var-attrs-in:checked ~ .xr-var-attrs,\n",
       ".xr-var-data-in:checked ~ .xr-var-data {\n",
       "  display: block;\n",
       "}\n",
       "\n",
       ".xr-var-data > table {\n",
       "  float: right;\n",
       "}\n",
       "\n",
       ".xr-var-name span,\n",
       ".xr-var-data,\n",
       ".xr-attrs {\n",
       "  padding-left: 25px !important;\n",
       "}\n",
       "\n",
       ".xr-attrs,\n",
       ".xr-var-attrs,\n",
       ".xr-var-data {\n",
       "  grid-column: 1 / -1;\n",
       "}\n",
       "\n",
       "dl.xr-attrs {\n",
       "  padding: 0;\n",
       "  margin: 0;\n",
       "  display: grid;\n",
       "  grid-template-columns: 125px auto;\n",
       "}\n",
       "\n",
       ".xr-attrs dt,\n",
       ".xr-attrs dd {\n",
       "  padding: 0;\n",
       "  margin: 0;\n",
       "  float: left;\n",
       "  padding-right: 10px;\n",
       "  width: auto;\n",
       "}\n",
       "\n",
       ".xr-attrs dt {\n",
       "  font-weight: normal;\n",
       "  grid-column: 1;\n",
       "}\n",
       "\n",
       ".xr-attrs dt:hover span {\n",
       "  display: inline-block;\n",
       "  background: var(--xr-background-color);\n",
       "  padding-right: 10px;\n",
       "}\n",
       "\n",
       ".xr-attrs dd {\n",
       "  grid-column: 2;\n",
       "  white-space: pre-wrap;\n",
       "  word-break: break-all;\n",
       "}\n",
       "\n",
       ".xr-icon-database,\n",
       ".xr-icon-file-text2 {\n",
       "  display: inline-block;\n",
       "  vertical-align: middle;\n",
       "  width: 1em;\n",
       "  height: 1.5em !important;\n",
       "  stroke-width: 0;\n",
       "  stroke: currentColor;\n",
       "  fill: currentColor;\n",
       "}\n",
       "</style><pre class='xr-text-repr-fallback'>&lt;xarray.DataArray (band: 1, y: 3000, x: 3000)&gt;\n",
       "[9000000 values with dtype=uint16]\n",
       "Coordinates:\n",
       "  * band         (band) int64 1\n",
       "  * x            (x) float64 -2.031e+06 -2.031e+06 ... -1.941e+06 -1.941e+06\n",
       "  * y            (y) float64 1.762e+06 1.762e+06 ... 1.672e+06 1.672e+06\n",
       "    spatial_ref  int64 0\n",
       "Attributes:\n",
       "    AREA_OR_POINT:           Area\n",
       "    TIFFTAG_RESOLUTIONUNIT:  2 (pixels/inch)\n",
       "    TIFFTAG_SOFTWARE:        ERDAS IMAGINE\n",
       "    TIFFTAG_XRESOLUTION:     1\n",
       "    TIFFTAG_YRESOLUTION:     1\n",
       "    scale_factor:            1.0\n",
       "    add_offset:              0.0</pre><div class='xr-wrap' hidden><div class='xr-header'><div class='xr-obj-type'>xarray.DataArray</div><div class='xr-array-name'></div><ul class='xr-dim-list'><li><span class='xr-has-index'>band</span>: 1</li><li><span class='xr-has-index'>y</span>: 3000</li><li><span class='xr-has-index'>x</span>: 3000</li></ul></div><ul class='xr-sections'><li class='xr-section-item'><div class='xr-array-wrap'><input id='section-fcfb87c8-94b0-4614-bf33-4909f06f12fd' class='xr-array-in' type='checkbox' checked><label for='section-fcfb87c8-94b0-4614-bf33-4909f06f12fd' title='Show/hide data repr'><svg class='icon xr-icon-database'><use xlink:href='#icon-database'></use></svg></label><div class='xr-array-preview xr-preview'><span>...</span></div><div class='xr-array-data'><pre>[9000000 values with dtype=uint16]</pre></div></div></li><li class='xr-section-item'><input id='section-6eeffff7-2d93-4952-b99e-8d389a9902d6' class='xr-section-summary-in' type='checkbox'  checked><label for='section-6eeffff7-2d93-4952-b99e-8d389a9902d6' class='xr-section-summary' >Coordinates: <span>(4)</span></label><div class='xr-section-inline-details'></div><div class='xr-section-details'><ul class='xr-var-list'><li class='xr-var-item'><div class='xr-var-name'><span class='xr-has-index'>band</span></div><div class='xr-var-dims'>(band)</div><div class='xr-var-dtype'>int64</div><div class='xr-var-preview xr-preview'>1</div><input id='attrs-d81fdaa4-2dde-4837-8068-b906747608b9' class='xr-var-attrs-in' type='checkbox' disabled><label for='attrs-d81fdaa4-2dde-4837-8068-b906747608b9' title='Show/Hide attributes'><svg class='icon xr-icon-file-text2'><use xlink:href='#icon-file-text2'></use></svg></label><input id='data-b8eba1df-53e2-477e-ae2f-b83f772420a8' class='xr-var-data-in' type='checkbox'><label for='data-b8eba1df-53e2-477e-ae2f-b83f772420a8' title='Show/Hide data repr'><svg class='icon xr-icon-database'><use xlink:href='#icon-database'></use></svg></label><div class='xr-var-attrs'><dl class='xr-attrs'></dl></div><div class='xr-var-data'><pre>array([1])</pre></div></li><li class='xr-var-item'><div class='xr-var-name'><span class='xr-has-index'>x</span></div><div class='xr-var-dims'>(x)</div><div class='xr-var-dtype'>float64</div><div class='xr-var-preview xr-preview'>-2.031e+06 ... -1.941e+06</div><input id='attrs-532bdd02-4306-46dd-8e8a-e9a3df1fa1b9' class='xr-var-attrs-in' type='checkbox' disabled><label for='attrs-532bdd02-4306-46dd-8e8a-e9a3df1fa1b9' title='Show/Hide attributes'><svg class='icon xr-icon-file-text2'><use xlink:href='#icon-file-text2'></use></svg></label><input id='data-20e34202-3b50-4eb1-902f-5d422c311f07' class='xr-var-data-in' type='checkbox'><label for='data-20e34202-3b50-4eb1-902f-5d422c311f07' title='Show/Hide data repr'><svg class='icon xr-icon-database'><use xlink:href='#icon-database'></use></svg></label><div class='xr-var-attrs'><dl class='xr-attrs'></dl></div><div class='xr-var-data'><pre>array([-2031120., -2031090., -2031060., ..., -1941210., -1941180., -1941150.])</pre></div></li><li class='xr-var-item'><div class='xr-var-name'><span class='xr-has-index'>y</span></div><div class='xr-var-dims'>(y)</div><div class='xr-var-dtype'>float64</div><div class='xr-var-preview xr-preview'>1.762e+06 1.762e+06 ... 1.672e+06</div><input id='attrs-ff99d36e-39e1-49ec-a879-e825049da1c3' class='xr-var-attrs-in' type='checkbox' disabled><label for='attrs-ff99d36e-39e1-49ec-a879-e825049da1c3' title='Show/Hide attributes'><svg class='icon xr-icon-file-text2'><use xlink:href='#icon-file-text2'></use></svg></label><input id='data-9a891834-722f-45ff-bfc2-d647ea7e9977' class='xr-var-data-in' type='checkbox'><label for='data-9a891834-722f-45ff-bfc2-d647ea7e9977' title='Show/Hide data repr'><svg class='icon xr-icon-database'><use xlink:href='#icon-database'></use></svg></label><div class='xr-var-attrs'><dl class='xr-attrs'></dl></div><div class='xr-var-data'><pre>array([1762200., 1762170., 1762140., ..., 1672290., 1672260., 1672230.])</pre></div></li><li class='xr-var-item'><div class='xr-var-name'><span>spatial_ref</span></div><div class='xr-var-dims'>()</div><div class='xr-var-dtype'>int64</div><div class='xr-var-preview xr-preview'>0</div><input id='attrs-c44e41bd-7423-4f26-9bdf-3ba37a53e850' class='xr-var-attrs-in' type='checkbox' ><label for='attrs-c44e41bd-7423-4f26-9bdf-3ba37a53e850' title='Show/Hide attributes'><svg class='icon xr-icon-file-text2'><use xlink:href='#icon-file-text2'></use></svg></label><input id='data-effd5810-91da-4829-b280-8d78dacdf109' class='xr-var-data-in' type='checkbox'><label for='data-effd5810-91da-4829-b280-8d78dacdf109' title='Show/Hide data repr'><svg class='icon xr-icon-database'><use xlink:href='#icon-database'></use></svg></label><div class='xr-var-attrs'><dl class='xr-attrs'><dt><span>crs_wkt :</span></dt><dd>PROJCS[&quot;NAD83 / Conus Albers&quot;,GEOGCS[&quot;NAD83&quot;,DATUM[&quot;North_American_Datum_1983&quot;,SPHEROID[&quot;GRS 1980&quot;,6378137,298.257222101,AUTHORITY[&quot;EPSG&quot;,&quot;7019&quot;]],TOWGS84[0,0,0,0,0,0,0],AUTHORITY[&quot;EPSG&quot;,&quot;6269&quot;]],PRIMEM[&quot;Greenwich&quot;,0,AUTHORITY[&quot;EPSG&quot;,&quot;8901&quot;]],UNIT[&quot;degree&quot;,0.0174532925199433,AUTHORITY[&quot;EPSG&quot;,&quot;9122&quot;]],AUTHORITY[&quot;EPSG&quot;,&quot;4269&quot;]],PROJECTION[&quot;Albers_Conic_Equal_Area&quot;],PARAMETER[&quot;latitude_of_center&quot;,23],PARAMETER[&quot;longitude_of_center&quot;,-96],PARAMETER[&quot;standard_parallel_1&quot;,29.5],PARAMETER[&quot;standard_parallel_2&quot;,45.5],PARAMETER[&quot;false_easting&quot;,0],PARAMETER[&quot;false_northing&quot;,0],UNIT[&quot;metre&quot;,1,AUTHORITY[&quot;EPSG&quot;,&quot;9001&quot;]],AXIS[&quot;Easting&quot;,EAST],AXIS[&quot;Northing&quot;,NORTH],AUTHORITY[&quot;EPSG&quot;,&quot;5070&quot;]]</dd><dt><span>semi_major_axis :</span></dt><dd>6378137.0</dd><dt><span>semi_minor_axis :</span></dt><dd>6356752.314140356</dd><dt><span>inverse_flattening :</span></dt><dd>298.257222101</dd><dt><span>reference_ellipsoid_name :</span></dt><dd>GRS 1980</dd><dt><span>longitude_of_prime_meridian :</span></dt><dd>0.0</dd><dt><span>prime_meridian_name :</span></dt><dd>Greenwich</dd><dt><span>geographic_crs_name :</span></dt><dd>NAD83</dd><dt><span>horizontal_datum_name :</span></dt><dd>North American Datum 1983</dd><dt><span>projected_crs_name :</span></dt><dd>NAD83 / Conus Albers</dd><dt><span>grid_mapping_name :</span></dt><dd>albers_conical_equal_area</dd><dt><span>standard_parallel :</span></dt><dd>(29.5, 45.5)</dd><dt><span>latitude_of_projection_origin :</span></dt><dd>23.0</dd><dt><span>longitude_of_central_meridian :</span></dt><dd>-96.0</dd><dt><span>false_easting :</span></dt><dd>0.0</dd><dt><span>false_northing :</span></dt><dd>0.0</dd><dt><span>towgs84 :</span></dt><dd>[0.0, 0.0, 0.0, 0.0, 0.0, 0.0, 0.0]</dd><dt><span>spatial_ref :</span></dt><dd>PROJCS[&quot;NAD83 / Conus Albers&quot;,GEOGCS[&quot;NAD83&quot;,DATUM[&quot;North_American_Datum_1983&quot;,SPHEROID[&quot;GRS 1980&quot;,6378137,298.257222101,AUTHORITY[&quot;EPSG&quot;,&quot;7019&quot;]],TOWGS84[0,0,0,0,0,0,0],AUTHORITY[&quot;EPSG&quot;,&quot;6269&quot;]],PRIMEM[&quot;Greenwich&quot;,0,AUTHORITY[&quot;EPSG&quot;,&quot;8901&quot;]],UNIT[&quot;degree&quot;,0.0174532925199433,AUTHORITY[&quot;EPSG&quot;,&quot;9122&quot;]],AUTHORITY[&quot;EPSG&quot;,&quot;4269&quot;]],PROJECTION[&quot;Albers_Conic_Equal_Area&quot;],PARAMETER[&quot;latitude_of_center&quot;,23],PARAMETER[&quot;longitude_of_center&quot;,-96],PARAMETER[&quot;standard_parallel_1&quot;,29.5],PARAMETER[&quot;standard_parallel_2&quot;,45.5],PARAMETER[&quot;false_easting&quot;,0],PARAMETER[&quot;false_northing&quot;,0],UNIT[&quot;metre&quot;,1,AUTHORITY[&quot;EPSG&quot;,&quot;9001&quot;]],AXIS[&quot;Easting&quot;,EAST],AXIS[&quot;Northing&quot;,NORTH],AUTHORITY[&quot;EPSG&quot;,&quot;5070&quot;]]</dd><dt><span>GeoTransform :</span></dt><dd>-2031135.0 30.0 0.0 1762215.0 0.0 -30.0</dd></dl></div><div class='xr-var-data'><pre>array(0)</pre></div></li></ul></div></li><li class='xr-section-item'><input id='section-70935623-034d-4827-8ffd-ce8ab8daf53f' class='xr-section-summary-in' type='checkbox'  checked><label for='section-70935623-034d-4827-8ffd-ce8ab8daf53f' class='xr-section-summary' >Attributes: <span>(7)</span></label><div class='xr-section-inline-details'></div><div class='xr-section-details'><dl class='xr-attrs'><dt><span>AREA_OR_POINT :</span></dt><dd>Area</dd><dt><span>TIFFTAG_RESOLUTIONUNIT :</span></dt><dd>2 (pixels/inch)</dd><dt><span>TIFFTAG_SOFTWARE :</span></dt><dd>ERDAS IMAGINE</dd><dt><span>TIFFTAG_XRESOLUTION :</span></dt><dd>1</dd><dt><span>TIFFTAG_YRESOLUTION :</span></dt><dd>1</dd><dt><span>scale_factor :</span></dt><dd>1.0</dd><dt><span>add_offset :</span></dt><dd>0.0</dd></dl></div></li></ul></div></div>"
      ],
      "text/plain": [
       "<xarray.DataArray (band: 1, y: 3000, x: 3000)>\n",
       "[9000000 values with dtype=uint16]\n",
       "Coordinates:\n",
       "  * band         (band) int64 1\n",
       "  * x            (x) float64 -2.031e+06 -2.031e+06 ... -1.941e+06 -1.941e+06\n",
       "  * y            (y) float64 1.762e+06 1.762e+06 ... 1.672e+06 1.672e+06\n",
       "    spatial_ref  int64 0\n",
       "Attributes:\n",
       "    AREA_OR_POINT:           Area\n",
       "    TIFFTAG_RESOLUTIONUNIT:  2 (pixels/inch)\n",
       "    TIFFTAG_SOFTWARE:        ERDAS IMAGINE\n",
       "    TIFFTAG_XRESOLUTION:     1\n",
       "    TIFFTAG_YRESOLUTION:     1\n",
       "    scale_factor:            1.0\n",
       "    add_offset:              0.0"
      ]
     },
     "execution_count": 3,
     "metadata": {},
     "output_type": "execute_result"
    }
   ],
   "source": [
    "# 1, import data \n",
    "lulc_fp = os.path.join(os.getcwd(),'data','land_cover.tif')\n",
    "lulc = rioxr.open_rasterio(lulc_fp)\n",
    "\n",
    "#check that it worked\n",
    "lulc"
   ]
  },
  {
   "cell_type": "code",
   "execution_count": 4,
   "id": "a66bfebc-22f2-49a8-a731-d499b315f9e4",
   "metadata": {
    "tags": []
   },
   "outputs": [
    {
     "data": {
      "text/plain": [
       "<Projected CRS: EPSG:3857>\n",
       "Name: WGS 84 / Pseudo-Mercator\n",
       "Axis Info [cartesian]:\n",
       "- X[east]: Easting (metre)\n",
       "- Y[north]: Northing (metre)\n",
       "Area of Use:\n",
       "- name: World between 85.06°S and 85.06°N.\n",
       "- bounds: (-180.0, -85.06, 180.0, 85.06)\n",
       "Coordinate Operation:\n",
       "- name: Popular Visualisation Pseudo-Mercator\n",
       "- method: Popular Visualisation Pseudo Mercator\n",
       "Datum: World Geodetic System 1984 ensemble\n",
       "- Ellipsoid: WGS 84\n",
       "- Prime Meridian: Greenwich"
      ]
     },
     "execution_count": 4,
     "metadata": {},
     "output_type": "execute_result"
    }
   ],
   "source": [
    "# 2, CA shapefile \n",
    "ca = gpd.read_file('https://data.ca.gov/dataset/e212e397-1277-4df3-8c22-40721b095f33/resource/3db1e426-fb51-44f5-82d5-a54d7c6e188b/download/ca-state-boundary.zip')\n",
    "\n",
    "ca.head()\n",
    "ca.crs"
   ]
  },
  {
   "cell_type": "markdown",
   "id": "b27d8aea-c7a2-4776-a0b2-283b22b98d36",
   "metadata": {
    "tags": []
   },
   "source": [
    "## Bounding box\n",
    "Create a `geopands.GeoDataFrame` named `bbox` with the lulc bounding box. "
   ]
  },
  {
   "cell_type": "code",
   "execution_count": 5,
   "id": "4d1fb42c-82b4-4866-9577-2ec30603c6e6",
   "metadata": {},
   "outputs": [
    {
     "data": {
      "text/plain": [
       "(-2031135.0, 1672215.0, -1941135.0, 1762215.0)"
      ]
     },
     "execution_count": 5,
     "metadata": {},
     "output_type": "execute_result"
    }
   ],
   "source": [
    "# create bounding box\n",
    "lulc.rio.bounds()"
   ]
  },
  {
   "cell_type": "code",
   "execution_count": 6,
   "id": "ef52e1a0-46fb-44f0-aec6-6601b2c946ac",
   "metadata": {
    "tags": []
   },
   "outputs": [
    {
     "name": "stdout",
     "output_type": "stream",
     "text": [
      "<class 'shapely.geometry.polygon.Polygon'>\n",
      "<class 'geopandas.geodataframe.GeoDataFrame'>\n"
     ]
    },
    {
     "data": {
      "text/plain": [
       "<AxesSubplot:>"
      ]
     },
     "execution_count": 6,
     "metadata": {},
     "output_type": "execute_result"
    },
    {
     "data": {
      "image/png": "[encoded data removed]",
      "text/plain": [
       "<Figure size 640x480 with 1 Axes>"
      ]
     },
     "metadata": {},
     "output_type": "display_data"
    }
   ],
   "source": [
    "# create bbox\n",
    "bbox = box(*lulc.rio.bounds())\n",
    "\n",
    "#check\n",
    "print(type(bbox))\n",
    "bbox\n",
    "\n",
    "#create geodateframe for bbox\n",
    "bbox = gpd.GeoDataFrame(geometry = [bbox],\n",
    "                        crs = lulc.rio.crs)\n",
    "#check                        \n",
    "print(type(bbox))\n",
    "\n",
    "#plot bbox\n",
    "bbox.plot()"
   ]
  },
  {
   "cell_type": "markdown",
   "id": "ce2f5e10-c31b-4ee3-9715-d1062d8ff1d5",
   "metadata": {},
   "source": [
    "## Mount Whitney point\n",
    "Create a `geopands.GeoDataFrame` named `mt_whitney` having the coordinates of Mount Whitney as a single point. You will need to look up Mount Whitney's coordinates. HINT: [`shapely.Point()`](https://shapely.readthedocs.io/en/stable/reference/shapely.Point.html)"
   ]
  },
  {
   "cell_type": "code",
   "execution_count": 7,
   "id": "bd817fac-0186-475f-9187-17b8bb11d067",
   "metadata": {
    "tags": []
   },
   "outputs": [
    {
     "data": {
      "text/plain": [
       "<AxesSubplot:>"
      ]
     },
     "execution_count": 7,
     "metadata": {},
     "output_type": "execute_result"
    },
    {
     "data": {
      "image/png": "[encoded data removed]",
      "text/plain": [
       "<Figure size 640x480 with 1 Axes>"
      ]
     },
     "metadata": {},
     "output_type": "display_data"
    }
   ],
   "source": [
    "# save Mt Whitney coordinates\n",
    "points = [-13168238.600765156, 4380516.844251228]\n",
    "\n",
    "# create geodataframe with mt_whitney\n",
    "mt_whitney = gpd.GeoDataFrame(geometry=[Point(points)],\n",
    "                           crs='epsg:4857')\n",
    "\n",
    "# change to projected CRS optimized for Mt Whitney\n",
    "#mt_whitney = mt_whitney.to_crs('epsg:3857')\n",
    "\n",
    "#plot\n",
    "mt_whitney.plot()"
   ]
  },
  {
   "cell_type": "code",
   "execution_count": 8,
   "id": "b0256d5d-0a24-4aa7-9ece-9922abd27941",
   "metadata": {
    "tags": []
   },
   "outputs": [
    {
     "data": {
      "text/plain": [
       "<Projected CRS: EPSG:4857>\n",
       "Name: ETRS89 / NTM zone 7\n",
       "Axis Info [cartesian]:\n",
       "- N[north]: Northing (metre)\n",
       "- E[east]: Easting (metre)\n",
       "Area of Use:\n",
       "- name: Norway - onshore - between 7°E and 8°E.\n",
       "- bounds: (6.99, 57.9, 8.01, 63.59)\n",
       "Coordinate Operation:\n",
       "- name: Norway TM zone 7\n",
       "- method: Transverse Mercator\n",
       "Datum: European Terrestrial Reference System 1989 ensemble\n",
       "- Ellipsoid: GRS 1980\n",
       "- Prime Meridian: Greenwich"
      ]
     },
     "execution_count": 8,
     "metadata": {},
     "output_type": "execute_result"
    }
   ],
   "source": [
    "#check that crs has been updated\n",
    "mt_whitney.crs"
   ]
  },
  {
   "cell_type": "markdown",
   "id": "0864cce5-c615-48b4-843f-c630b5907255",
   "metadata": {},
   "source": [
    "## Updates\n",
    "If there are any updates needed to the data, perform them in the next cells (you may add as many as you need). \n",
    "At the top of each one, include a comment explaining what is happening in that cell's code."
   ]
  },
  {
   "cell_type": "code",
   "execution_count": 9,
   "id": "e33ffffa-ca1d-46fc-a309-6e31d757fbb9",
   "metadata": {},
   "outputs": [
    {
     "name": "stdout",
     "output_type": "stream",
     "text": [
      "mt_whitney CRS:  epsg:4857\n",
      "lulc CRS:  EPSG:5070\n"
     ]
    }
   ],
   "source": [
    "# check CRS\n",
    "print('mt_whitney CRS: ', mt_whitney.crs)\n",
    "print('lulc CRS: ', lulc.rio.crs)"
   ]
  },
  {
   "cell_type": "code",
   "execution_count": 10,
   "id": "e55386a4-029e-487f-92de-15baeca8e877",
   "metadata": {
    "tags": []
   },
   "outputs": [
    {
     "data": {
      "text/plain": [
       "False"
      ]
     },
     "execution_count": 10,
     "metadata": {},
     "output_type": "execute_result"
    }
   ],
   "source": [
    "#check that CRSs match\n",
    "bbox.crs ==ca.crs"
   ]
  },
  {
   "cell_type": "code",
   "execution_count": 11,
   "id": "84e07540-0e55-47fb-8803-c2ac5c2293b7",
   "metadata": {
    "tags": []
   },
   "outputs": [
    {
     "data": {
      "text/plain": [
       "False"
      ]
     },
     "execution_count": 11,
     "metadata": {},
     "output_type": "execute_result"
    }
   ],
   "source": [
    "#check that CRSs match\n",
    "mt_whitney.crs == ca.crs"
   ]
  },
  {
   "cell_type": "code",
   "execution_count": 12,
   "id": "7a393781-2dc9-4fd3-b9c5-200829975c55",
   "metadata": {
    "tags": []
   },
   "outputs": [
    {
     "data": {
      "text/plain": [
       "<Bound CRS: PROJCS[\"NAD83 / Conus Albers\",GEOGCS[\"NAD83\",DATUM ...>\n",
       "Name: NAD83 / Conus Albers\n",
       "Axis Info [cartesian]:\n",
       "- [east]: Easting (metre)\n",
       "- [north]: Northing (metre)\n",
       "Area of Use:\n",
       "- undefined\n",
       "Coordinate Operation:\n",
       "- name: Transformation from NAD83 to WGS84\n",
       "- method: Position Vector transformation (geog2D domain)\n",
       "Datum: North American Datum 1983\n",
       "- Ellipsoid: GRS 1980\n",
       "- Prime Meridian: Greenwich\n",
       "Source CRS: NAD83 / Conus Albers"
      ]
     },
     "execution_count": 12,
     "metadata": {},
     "output_type": "execute_result"
    }
   ],
   "source": [
    "#check bbox CRS\n",
    "bbox.crs"
   ]
  },
  {
   "cell_type": "code",
   "execution_count": 13,
   "id": "58bc18ea-60bb-4fdd-b3b1-a167991e9992",
   "metadata": {
    "tags": []
   },
   "outputs": [
    {
     "data": {
      "text/plain": [
       "<AxesSubplot:>"
      ]
     },
     "execution_count": 13,
     "metadata": {},
     "output_type": "execute_result"
    },
    {
     "data": {
      "image/png": "[encoded data removed]",
      "text/plain": [
       "<Figure size 640x480 with 1 Axes>"
      ]
     },
     "metadata": {},
     "output_type": "display_data"
    }
   ],
   "source": [
    "#convert bbox CRS to match w ca\n",
    "bbox = bbox.to_crs(ca.crs)\n",
    "\n",
    "#check CRS\n",
    "bbox.crs\n",
    "\n",
    "#plot\n",
    "bbox.plot()"
   ]
  },
  {
   "cell_type": "markdown",
   "id": "01bced89-317f-4ad0-bf7f-19f930afe790",
   "metadata": {},
   "source": [
    "## Map\n",
    "\n",
    "Create a map showing `bbox`, `ca` and `mt_whitney` similar to the one in the overview section. \n",
    "It must have at least the customizations shown in the sample map. \n",
    "\n",
    "HINTS:\n",
    "1. to change the `marker_style`: https://matplotlib.org/stable/gallery/lines_bars_and_markers/marker_reference.html\n",
    "2. to add the marker to the legend: https://matplotlib.org/stable/users/explain/axes/legend_guide.html and update parameter `linestyle='None'` in `mlines.Line2D`"
   ]
  },
  {
   "cell_type": "code",
   "execution_count": 15,
   "id": "b56ced71-c9ef-45e3-b4f8-27361d1fe5e7",
   "metadata": {
    "tags": []
   },
   "outputs": [
    {
     "data": {
      "image/png": "[encoded data removed]",
      "text/plain": [
       "<Figure size 1000x1000 with 1 Axes>"
      ]
     },
     "metadata": {},
     "output_type": "display_data"
    }
   ],
   "source": [
    "#plot mt whitney within bbox in CA\n",
    "fig, ax = plt.subplots(figsize = (10,10))\n",
    "\n",
    "#define the layers we want to use\n",
    "one = ca.plot(ax=ax, color = 'salmon', edgecolor = 'black', label = 'CA, USA', linestyle = 'None')\n",
    "two = bbox.plot(ax=ax, color = 'blue', label = 'LULC', linestyle = 'None')\n",
    "three = mt_whitney.plot(ax=ax, color = 'red', marker = '*', label = 'Mt Whitney')\n",
    "\n",
    "#use mpatches to define legend\n",
    "one_patch = mpatches.Patch(color = 'salmon', label = 'CA, USA')\n",
    "two_patch = mpatches.Patch(color = 'blue', label = 'LULC', linestyle = 'None')\n",
    "three_patch = mlines.Line2D([], [], color = 'red', marker = '*', label = 'Mt Whitney', linestyle = 'None')\n",
    "\n",
    "#create legend\n",
    "plt.legend(handles=[one_patch, two_patch, three_patch])\n",
    "\n",
    "#plot\n",
    "plt.show()"
   ]
  },
  {
   "cell_type": "markdown",
   "id": "a517afa7-5069-40e8-8673-4822b76e8fbc",
   "metadata": {},
   "source": [
    "## Final code\n",
    "Collect all the relevant code into the first blank cell of the notebook titled \"FINAL CODE\". This single cell will have the end-to-end workflow: from importing libraries and loading the data, to producing the graph. The only ouput of this cell should be the graph you produced in the previous exercise. \n",
    "\n",
    "Add divisions for relevant sections and comment appropriately.\n"
   ]
  }
 ],
 "metadata": {
  "kernelspec": {
   "display_name": "Anaconda 3 (Base)",
   "language": "python",
   "name": "base"
  },
  "language_info": {
   "codemirror_mode": {
    "name": "ipython",
    "version": 3
   },
   "file_extension": ".py",
   "mimetype": "text/x-python",
   "name": "python",
   "nbconvert_exporter": "python",
   "pygments_lexer": "ipython3",
   "version": "3.9.13"
  }
 },
 "nbformat": 4,
 "nbformat_minor": 5
}
